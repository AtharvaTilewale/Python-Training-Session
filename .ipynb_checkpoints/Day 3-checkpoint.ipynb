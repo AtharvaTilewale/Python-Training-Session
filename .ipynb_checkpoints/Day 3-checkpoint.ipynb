{
 "cells": [
  {
   "cell_type": "code",
   "execution_count": 1,
   "id": "544af76f-694e-4751-b714-9be17345c874",
   "metadata": {},
   "outputs": [],
   "source": [
    "#Introduction to f strings:"
   ]
  },
  {
   "cell_type": "code",
   "execution_count": 8,
   "id": "90e62cd5-1c3e-4036-85e9-cdcf05aa1d3e",
   "metadata": {},
   "outputs": [],
   "source": [
    "#General syntax of f strings\"\n",
    "\n",
    "# f\" custom message {placeholder_1} {placeholder_2} {placeholder_3} ..... {placeholder_n}\"\n"
   ]
  },
  {
   "cell_type": "code",
   "execution_count": 4,
   "id": "a2f454fc-2ad3-47e5-a899-c3c3d735e458",
   "metadata": {},
   "outputs": [
    {
     "name": "stdout",
     "output_type": "stream",
     "text": [
      "kumar ravi\n"
     ]
    }
   ],
   "source": [
    "firstname = \"kumar\"\n",
    "lastname = \"ravi\"\n",
    "\n",
    "fullname = f\"{firstname} {lastname}\"\n",
    "print(fullname)"
   ]
  },
  {
   "cell_type": "code",
   "execution_count": 5,
   "id": "0418a66e-61e4-49e9-90ad-16a0ad39b036",
   "metadata": {},
   "outputs": [
    {
     "name": "stdout",
     "output_type": "stream",
     "text": [
      "Kumar Ravi\n"
     ]
    }
   ],
   "source": [
    "print(fullname.title())"
   ]
  },
  {
   "cell_type": "code",
   "execution_count": 6,
   "id": "43f49af4-191e-4574-b426-5bd688d60437",
   "metadata": {},
   "outputs": [
    {
     "name": "stdout",
     "output_type": "stream",
     "text": [
      "KUMAR RAVI\n"
     ]
    }
   ],
   "source": [
    "print(fullname.upper())\n"
   ]
  },
  {
   "cell_type": "code",
   "execution_count": 7,
   "id": "f46dedb3-42d0-4834-9ad9-1141f2d0c474",
   "metadata": {},
   "outputs": [
    {
     "name": "stdout",
     "output_type": "stream",
     "text": [
      "kumar ravi\n"
     ]
    }
   ],
   "source": [
    "print(fullname.lower())\n"
   ]
  },
  {
   "cell_type": "code",
   "execution_count": 9,
   "id": "791120bd-bfd2-4b62-889e-8b50cdb0cdaa",
   "metadata": {},
   "outputs": [
    {
     "name": "stdout",
     "output_type": "stream",
     "text": [
      "keep up the good work, Kumar Ravi \n"
     ]
    }
   ],
   "source": [
    "message = f\"keep up the good work, {fullname.title()} \"\n",
    "print(message)"
   ]
  },
  {
   "cell_type": "code",
   "execution_count": 12,
   "id": "aa75034c-869e-4441-a070-65ca4330347e",
   "metadata": {},
   "outputs": [
    {
     "name": "stdout",
     "output_type": "stream",
     "text": [
      "keep up the good work Kumar Ravi\n"
     ]
    }
   ],
   "source": [
    "msg = \"keep up the good work \" + fullname.title()\n",
    "print(msg)"
   ]
  },
  {
   "cell_type": "code",
   "execution_count": 13,
   "id": "15d4a288-3926-40c3-b688-cc9bb38af52d",
   "metadata": {},
   "outputs": [
    {
     "name": "stdout",
     "output_type": "stream",
     "text": [
      "pythoncjavareactswiftc++pascal\n"
     ]
    }
   ],
   "source": [
    "#understanding the concepts of delimiters:\n",
    "fav_lang = \"pythoncjavareactswiftc++pascal\"\n",
    "print(fav_lang)"
   ]
  },
  {
   "cell_type": "code",
   "execution_count": 15,
   "id": "63832bf1-0257-4dde-b58f-09efb18fd17e",
   "metadata": {},
   "outputs": [
    {
     "name": "stdout",
     "output_type": "stream",
     "text": [
      "fav_lang : \n",
      "python\n",
      "c\n",
      "java\n",
      "react\n",
      "swift\n",
      "c++\n",
      "pascal\n"
     ]
    }
   ],
   "source": [
    "print(\"fav_lang : \\npython\\nc\\njava\\nreact\\nswift\\nc++\\npascal\") # \\n : new line delimiter"
   ]
  },
  {
   "cell_type": "code",
   "execution_count": 1,
   "id": "35cade2f-a350-426b-9a42-23face23b971",
   "metadata": {},
   "outputs": [],
   "source": [
    "#Remove whitespaces from strings:"
   ]
  },
  {
   "cell_type": "code",
   "execution_count": 2,
   "id": "81c54c9c-9cf6-4268-9d1c-f46b719ef728",
   "metadata": {},
   "outputs": [
    {
     "name": "stdout",
     "output_type": "stream",
     "text": [
      "    python\n"
     ]
    }
   ],
   "source": [
    "name = \"    python\"\n",
    "print(name)"
   ]
  },
  {
   "cell_type": "code",
   "execution_count": 3,
   "id": "edb178e0-9cec-462a-a500-f3353bc83b53",
   "metadata": {},
   "outputs": [
    {
     "name": "stdout",
     "output_type": "stream",
     "text": [
      "python    \n"
     ]
    }
   ],
   "source": [
    "name2 = \"python    \"\n",
    "print(name2)"
   ]
  },
  {
   "cell_type": "code",
   "execution_count": 4,
   "id": "93fc1cec-f04c-40f9-bf1b-7982c99110b4",
   "metadata": {},
   "outputs": [
    {
     "data": {
      "text/plain": [
       "'python'"
      ]
     },
     "execution_count": 4,
     "metadata": {},
     "output_type": "execute_result"
    }
   ],
   "source": [
    "name.lstrip() #left stripping"
   ]
  },
  {
   "cell_type": "code",
   "execution_count": 5,
   "id": "e77758a5-316c-4cb0-a205-1fffd9dd2431",
   "metadata": {},
   "outputs": [
    {
     "data": {
      "text/plain": [
       "'python'"
      ]
     },
     "execution_count": 5,
     "metadata": {},
     "output_type": "execute_result"
    }
   ],
   "source": [
    "name2.rstrip() #right stripping"
   ]
  },
  {
   "cell_type": "code",
   "execution_count": 6,
   "id": "93df1b8d-e947-45dd-b85b-9b8548f5d30b",
   "metadata": {},
   "outputs": [
    {
     "data": {
      "text/plain": [
       "'python'"
      ]
     },
     "execution_count": 6,
     "metadata": {},
     "output_type": "execute_result"
    }
   ],
   "source": [
    "name3 = \"    python     \"\n",
    "name3.strip()"
   ]
  },
  {
   "cell_type": "code",
   "execution_count": null,
   "id": "6a8df5a9-76f0-4523-a67a-57ecdf691e85",
   "metadata": {},
   "outputs": [],
   "source": []
  }
 ],
 "metadata": {
  "kernelspec": {
   "display_name": "Python 3 (ipykernel)",
   "language": "python",
   "name": "python3"
  },
  "language_info": {
   "codemirror_mode": {
    "name": "ipython",
    "version": 3
   },
   "file_extension": ".py",
   "mimetype": "text/x-python",
   "name": "python",
   "nbconvert_exporter": "python",
   "pygments_lexer": "ipython3",
   "version": "3.11.5"
  }
 },
 "nbformat": 4,
 "nbformat_minor": 5
}
