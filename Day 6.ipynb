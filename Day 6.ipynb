{
 "cells": [
  {
   "cell_type": "code",
   "execution_count": 1,
   "id": "4b0bdfc1-6815-4bb0-be8f-7306cb7f6ff8",
   "metadata": {},
   "outputs": [],
   "source": [
    "#continuation with list datatype:"
   ]
  },
  {
   "cell_type": "code",
   "execution_count": 2,
   "id": "d0c8638e-a1cb-4acb-8aea-766ca7d003bc",
   "metadata": {},
   "outputs": [],
   "source": [
    "#Organizing list datatype"
   ]
  },
  {
   "cell_type": "code",
   "execution_count": 4,
   "id": "dd83d731-b365-4b3a-ba13-8959cd1e146a",
   "metadata": {},
   "outputs": [],
   "source": [
    "#Slicing the list:\n",
    "\n",
    "#General syntax: [start_value:stop_value:step_count]"
   ]
  },
  {
   "cell_type": "code",
   "execution_count": 5,
   "id": "47c1a89c-e7bd-46a4-9c4f-ef0c3cd8254d",
   "metadata": {},
   "outputs": [],
   "source": [
    "cars = ['audi', 'mercedes', 'ferrari', 'toyota', 'bmw', 'porsche', 'skoda', 'swift', 'tesla']"
   ]
  },
  {
   "cell_type": "code",
   "execution_count": 6,
   "id": "05172a12-4b24-4d1c-80d1-af69c2b08cac",
   "metadata": {},
   "outputs": [
    {
     "name": "stdout",
     "output_type": "stream",
     "text": [
      "['audi', 'mercedes', 'ferrari', 'toyota', 'bmw', 'porsche', 'skoda', 'swift', 'tesla']\n"
     ]
    }
   ],
   "source": [
    "print(cars)"
   ]
  },
  {
   "cell_type": "code",
   "execution_count": 7,
   "id": "83d6834b-8b46-4157-9275-2dc1128ae978",
   "metadata": {},
   "outputs": [
    {
     "data": {
      "text/plain": [
       "list"
      ]
     },
     "execution_count": 7,
     "metadata": {},
     "output_type": "execute_result"
    }
   ],
   "source": [
    "type(cars)"
   ]
  },
  {
   "cell_type": "code",
   "execution_count": null,
   "id": "8fcaed00-73ca-4a73-9096-9b4f71523878",
   "metadata": {},
   "outputs": [],
   "source": [
    "#Note: Stop value is always exclusive. To include a stop value, "
   ]
  }
 ],
 "metadata": {
  "kernelspec": {
   "display_name": "Python 3 (ipykernel)",
   "language": "python",
   "name": "python3"
  },
  "language_info": {
   "codemirror_mode": {
    "name": "ipython",
    "version": 3
   },
   "file_extension": ".py",
   "mimetype": "text/x-python",
   "name": "python",
   "nbconvert_exporter": "python",
   "pygments_lexer": "ipython3",
   "version": "3.11.5"
  }
 },
 "nbformat": 4,
 "nbformat_minor": 5
}
