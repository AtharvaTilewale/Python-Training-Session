{
 "cells": [
  {
   "cell_type": "code",
   "execution_count": null,
   "id": "35f2b558-4ed6-4c3f-9af3-80e4050841a9",
   "metadata": {},
   "outputs": [],
   "source": [
    "#Introduction to list datatype\n",
    "Definition: A list is a collection of items declared in a particular order.\n",
    "Classification: It is classified as a mutable datatype\n",
    "How to declare a list datatype ===> []"
   ]
  },
  {
   "cell_type": "code",
   "execution_count": 5,
   "id": "7e82dd49-017a-4c4f-bbd7-e1b50c0681f0",
   "metadata": {},
   "outputs": [],
   "source": [
    "students = ['roshni', 'naveena', 'kumar', 'kingo', 'atharva']"
   ]
  },
  {
   "cell_type": "code",
   "execution_count": 2,
   "id": "53365715-fb2a-425e-9347-d55c89ee9418",
   "metadata": {},
   "outputs": [
    {
     "name": "stdout",
     "output_type": "stream",
     "text": [
      "['roshni', 'naveena', 'kumar', 'kingo', 'atharva']\n"
     ]
    }
   ],
   "source": [
    "print(students)"
   ]
  },
  {
   "cell_type": "code",
   "execution_count": 9,
   "id": "43f05790-4088-4ff1-adf4-d201826bb467",
   "metadata": {},
   "outputs": [
    {
     "data": {
      "text/plain": [
       "'Atharva'"
      ]
     },
     "execution_count": 9,
     "metadata": {},
     "output_type": "execute_result"
    }
   ],
   "source": [
    "students[4]\n",
    "students[4].title()"
   ]
  },
  {
   "cell_type": "code",
   "execution_count": 4,
   "id": "f76cee5a-8e60-4379-a1fe-4c57da9aa071",
   "metadata": {},
   "outputs": [
    {
     "data": {
      "text/plain": [
       "list"
      ]
     },
     "execution_count": 4,
     "metadata": {},
     "output_type": "execute_result"
    }
   ],
   "source": [
    "type(students)"
   ]
  },
  {
   "cell_type": "code",
   "execution_count": null,
   "id": "3b5b5b8e-be87-4d76-9a25-a7bde53856ab",
   "metadata": {},
   "outputs": [],
   "source": [
    "#Introduction to indexing"
   ]
  },
  {
   "cell_type": "code",
   "execution_count": null,
   "id": "123a5a61-3433-4b7c-ad21-dc5979bd6642",
   "metadata": {},
   "outputs": [],
   "source": [
    "1. how to add new elements to the list\n",
    "2. how to modify the elements in the list\n",
    "3. how to delete the elements in the list"
   ]
  },
  {
   "cell_type": "code",
   "execution_count": 14,
   "id": "a16e5c3d-bb1b-4456-8751-980a87f00797",
   "metadata": {},
   "outputs": [
    {
     "name": "stdout",
     "output_type": "stream",
     "text": [
      "['roshni', 'naveena', 'kumar', 'kingo', 'atharva', 'jadhav', 'jadhav', 'jadhav', 'jadhav', 'jadhav']\n"
     ]
    }
   ],
   "source": [
    "students.append('jadhav')\n",
    "print(students)"
   ]
  },
  {
   "cell_type": "code",
   "execution_count": 18,
   "id": "26b1b9b8-00cc-4025-ba00-c135bb049610",
   "metadata": {},
   "outputs": [
    {
     "name": "stdout",
     "output_type": "stream",
     "text": [
      "['roshni', 'naveena', 'rakesh', 'rakesh', 'kingo', 'atharva', 'jadhav', 'jadhav', 'jadhav', 'jadhav', 'jadhav']\n",
      "['roshni', 'naveena', 'rakesh', 'rakesh', 'rakesh', 'kingo', 'atharva', 'jadhav', 'jadhav', 'jadhav', 'jadhav', 'jadhav']\n"
     ]
    }
   ],
   "source": [
    "students[2] = 'rakesh'\n",
    "print(students)\n",
    "\n",
    "students.insert(2, 'rakesh')\n",
    "print(students)"
   ]
  },
  {
   "cell_type": "code",
   "execution_count": null,
   "id": "938cc394-fe06-477e-bb9a-8c160791ee2b",
   "metadata": {},
   "outputs": [],
   "source": []
  }
 ],
 "metadata": {
  "kernelspec": {
   "display_name": "Python 3 (ipykernel)",
   "language": "python",
   "name": "python3"
  },
  "language_info": {
   "codemirror_mode": {
    "name": "ipython",
    "version": 3
   },
   "file_extension": ".py",
   "mimetype": "text/x-python",
   "name": "python",
   "nbconvert_exporter": "python",
   "pygments_lexer": "ipython3",
   "version": "3.11.5"
  }
 },
 "nbformat": 4,
 "nbformat_minor": 5
}
