{
 "cells": [
  {
   "cell_type": "code",
   "execution_count": 3,
   "id": "e25067f6-b3b1-4e9b-8e3c-07d19bbafdba",
   "metadata": {},
   "outputs": [],
   "source": [
    "#Introduction to Python Programming"
   ]
  },
  {
   "cell_type": "code",
   "execution_count": 2,
   "id": "ed8a2f00-dd27-4b05-8acb-a3c5b9f75d48",
   "metadata": {},
   "outputs": [],
   "source": [
    "#Understanding variables in Python"
   ]
  },
  {
   "cell_type": "code",
   "execution_count": 4,
   "id": "dc1bf858-d78f-4fb1-a0ec-8fee0beb23f5",
   "metadata": {},
   "outputs": [],
   "source": [
    "x = 2\n",
    "y = 3"
   ]
  },
  {
   "cell_type": "code",
   "execution_count": 6,
   "id": "f9bdf79d-9c48-4fb1-8a4b-5a402e1b1778",
   "metadata": {},
   "outputs": [
    {
     "name": "stdout",
     "output_type": "stream",
     "text": [
      "5\n"
     ]
    }
   ],
   "source": [
    "z = x + y\n",
    "print(z)"
   ]
  },
  {
   "cell_type": "code",
   "execution_count": 11,
   "id": "5453807b-ef8f-43a6-a1e5-1c5218d0438a",
   "metadata": {},
   "outputs": [
    {
     "data": {
      "text/plain": [
       "' Rules for declaring variables in Python\\n\\n1) No namespace while declaring the Variable\\n2) A variable should not start with a number\\n3) A variable should not contain any special characters (@#$%)\\n'"
      ]
     },
     "execution_count": 11,
     "metadata": {},
     "output_type": "execute_result"
    }
   ],
   "source": [
    "\"\"\" Rules for declaring variables in Python\n",
    "\n",
    "1) No namespace while declaring the Variable\n",
    "2) A variable should not start with a number\n",
    "3) A variable should not contain any special characters (@#$%)\n",
    "\"\"\"\n"
   ]
  },
  {
   "cell_type": "code",
   "execution_count": 12,
   "id": "af6f2781-d5ad-4b45-b06b-e746895bab05",
   "metadata": {},
   "outputs": [],
   "source": [
    "#Introduction to datatypes in python"
   ]
  },
  {
   "cell_type": "code",
   "execution_count": 4,
   "id": "42823820-aff3-46a5-8683-5892597da12e",
   "metadata": {},
   "outputs": [
    {
     "data": {
      "text/plain": [
       "'\\n1) string ===> str\\n2) number (integer (int) and floats (decimals - 0.1, 0.2))\\n3) lists ===> list\\n4) tuples ===> tuple\\n5) dictionaries ===> dict\\n'"
      ]
     },
     "execution_count": 4,
     "metadata": {},
     "output_type": "execute_result"
    }
   ],
   "source": [
    "'''\n",
    "1) string ===> str\n",
    "2) number (integer (int) and floats (decimals - 0.1, 0.2))\n",
    "3) lists ===> list\n",
    "4) tuples ===> tuple\n",
    "5) dictionaries ===> dict\n",
    "'''"
   ]
  },
  {
   "cell_type": "code",
   "execution_count": 5,
   "id": "af7b05fa-3717-4d52-bef8-b1917c90f14c",
   "metadata": {},
   "outputs": [
    {
     "data": {
      "text/plain": [
       "'\\nClassification of datatypes:\\n    1) mutable ===> which we can edit and alter ===> flexible in nature\\n    2) immutable ===> which we cannot edit or alter ===> fixed in nature\\n'"
      ]
     },
     "execution_count": 5,
     "metadata": {},
     "output_type": "execute_result"
    }
   ],
   "source": [
    "'''\n",
    "Classification of datatypes:\n",
    "    1) mutable ===> which we can edit and alter ===> flexible in nature\n",
    "    2) immutable ===> which we cannot edit or alter ===> fixed in nature\n",
    "'''"
   ]
  },
  {
   "cell_type": "code",
   "execution_count": 6,
   "id": "6c8aa323-aa2d-4a71-8902-82aaaa5d3bc9",
   "metadata": {},
   "outputs": [
    {
     "data": {
      "text/plain": [
       "'\\nIntroduction to string datatype :\\nDefinition: A string is a combination of characters declared in quotes.\\nClassification: it is classified as immutable datatype\\nhow to declare the string datatype\\n1. single quote\\n2. double quote\\n'"
      ]
     },
     "execution_count": 6,
     "metadata": {},
     "output_type": "execute_result"
    }
   ],
   "source": [
    "'''\n",
    "Introduction to string datatype :\n",
    "Definition: A string is a combination of characters declared in quotes.\n",
    "Classification: it is classified as immutable datatype\n",
    "how to declare the string datatype\n",
    "1. single quote\n",
    "2. double quote\n",
    "'''"
   ]
  },
  {
   "cell_type": "code",
   "execution_count": 11,
   "id": "2196d39f-1d7e-41dd-b931-2ee903ea47ee",
   "metadata": {},
   "outputs": [
    {
     "name": "stdout",
     "output_type": "stream",
     "text": [
      "karthik\n"
     ]
    }
   ],
   "source": [
    "name = 'karthik' #single quote\n",
    "print(name)"
   ]
  },
  {
   "cell_type": "code",
   "execution_count": 12,
   "id": "5de67ecf-08d2-452d-a13d-fd4b90abadef",
   "metadata": {},
   "outputs": [
    {
     "name": "stdout",
     "output_type": "stream",
     "text": [
      "rajiv\n"
     ]
    }
   ],
   "source": [
    "name2 = \"rajiv\" #double quote\n",
    "print(name2)"
   ]
  },
  {
   "cell_type": "code",
   "execution_count": 13,
   "id": "caaa57b7-9d0a-4f56-aa07-da2536865934",
   "metadata": {},
   "outputs": [
    {
     "data": {
      "text/plain": [
       "str"
      ]
     },
     "execution_count": 13,
     "metadata": {},
     "output_type": "execute_result"
    }
   ],
   "source": [
    "#Introduction to string methods\n",
    "type(name)\n",
    "type(name2)"
   ]
  },
  {
   "cell_type": "code",
   "execution_count": 14,
   "id": "60d0de1d-abee-4578-98cc-79a53d10c8f2",
   "metadata": {},
   "outputs": [
    {
     "name": "stdout",
     "output_type": "stream",
     "text": [
      "Atharva Tilewale\n"
     ]
    }
   ],
   "source": [
    "fullname = 'Atharva Tilewale'\n",
    "print(fullname)"
   ]
  },
  {
   "cell_type": "code",
   "execution_count": 15,
   "id": "8a38e9f7-8997-4882-97b9-0d9f32950a48",
   "metadata": {},
   "outputs": [
    {
     "name": "stdout",
     "output_type": "stream",
     "text": [
      "ATHARVA TILEWALE\n"
     ]
    }
   ],
   "source": [
    "#uppercase\n",
    "print(fullname.upper())"
   ]
  },
  {
   "cell_type": "code",
   "execution_count": 16,
   "id": "af2d1554-7cee-41bc-804d-8949ceec0988",
   "metadata": {},
   "outputs": [
    {
     "name": "stdout",
     "output_type": "stream",
     "text": [
      "atharva tilewale\n"
     ]
    }
   ],
   "source": [
    "#lowercase\n",
    "print(fullname.lower())"
   ]
  },
  {
   "cell_type": "code",
   "execution_count": null,
   "id": "55c34679-f5fe-47ad-b7aa-74b1551055a2",
   "metadata": {},
   "outputs": [],
   "source": []
  }
 ],
 "metadata": {
  "kernelspec": {
   "display_name": "Python 3 (ipykernel)",
   "language": "python",
   "name": "python3"
  },
  "language_info": {
   "codemirror_mode": {
    "name": "ipython",
    "version": 3
   },
   "file_extension": ".py",
   "mimetype": "text/x-python",
   "name": "python",
   "nbconvert_exporter": "python",
   "pygments_lexer": "ipython3",
   "version": "3.11.5"
  }
 },
 "nbformat": 4,
 "nbformat_minor": 5
}
