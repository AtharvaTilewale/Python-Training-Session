{
 "cells": [
  {
   "cell_type": "code",
   "execution_count": null,
   "id": "7a4ed7fd-67b8-4973-a0bf-8a169131327d",
   "metadata": {},
   "outputs": [],
   "source": [
    "#Continuation with list datatype:"
   ]
  },
  {
   "cell_type": "code",
   "execution_count": 1,
   "id": "1a0d3ad1-130f-465b-aec6-f7922601bebb",
   "metadata": {},
   "outputs": [],
   "source": [
    "#Organising the list datatype"
   ]
  },
  {
   "cell_type": "code",
   "execution_count": 2,
   "id": "8c056cba-88c0-4343-ae19-e4e77d33fc52",
   "metadata": {},
   "outputs": [],
   "source": [
    "cars = [\"maruti\", \"bmw\", \"toyota\", \"ferrari\", \"lambo\", \"prosche\", \"bugatti\"]"
   ]
  },
  {
   "cell_type": "code",
   "execution_count": 3,
   "id": "21316bd7-8e7f-4aca-9d31-b0430f2dfcea",
   "metadata": {},
   "outputs": [
    {
     "name": "stdout",
     "output_type": "stream",
     "text": [
      "['maruti', 'bmw', 'toyota', 'ferrari', 'lambo', 'prosche', 'bugatti']\n"
     ]
    }
   ],
   "source": [
    "print(cars)"
   ]
  },
  {
   "cell_type": "code",
   "execution_count": 4,
   "id": "85b35c7a-df5c-4d17-9dd8-f67e752b3fcf",
   "metadata": {},
   "outputs": [],
   "source": [
    "#req: A-Z"
   ]
  },
  {
   "cell_type": "code",
   "execution_count": 6,
   "id": "3ea44889-3277-4d57-9271-bfd2bba7b153",
   "metadata": {},
   "outputs": [
    {
     "data": {
      "text/plain": [
       "'\\n2 different approaches:\\n    1. Temp approach: sorted ==> Will be able to maintain the original order of the list\\n    2. Permanent approach: sort ==> Changes are applied permanently\\n'"
      ]
     },
     "execution_count": 6,
     "metadata": {},
     "output_type": "execute_result"
    }
   ],
   "source": [
    "'''\n",
    "2 different approaches:\n",
    "    1. Temp approach: sorted ==> Will be able to maintain the original order of the list\n",
    "    2. Permanent approach: sort ==> Changes are applied permanently\n",
    "'''"
   ]
  },
  {
   "cell_type": "code",
   "execution_count": 7,
   "id": "5b9282fe-3e33-4cf1-b0c8-065e1bc31be7",
   "metadata": {},
   "outputs": [
    {
     "name": "stdout",
     "output_type": "stream",
     "text": [
      "['bmw', 'bugatti', 'ferrari', 'lambo', 'maruti', 'prosche', 'toyota']\n"
     ]
    }
   ],
   "source": [
    "print(sorted(cars))"
   ]
  },
  {
   "cell_type": "code",
   "execution_count": 8,
   "id": "2234b1e3-9a0a-43d5-b8cc-057dd15d9d7c",
   "metadata": {},
   "outputs": [
    {
     "name": "stdout",
     "output_type": "stream",
     "text": [
      "['maruti', 'bmw', 'toyota', 'ferrari', 'lambo', 'prosche', 'bugatti']\n"
     ]
    }
   ],
   "source": [
    "print(cars)"
   ]
  },
  {
   "cell_type": "code",
   "execution_count": 9,
   "id": "bb14e4ed-3bf2-4cb4-8b3a-fe9292f0b1b0",
   "metadata": {},
   "outputs": [],
   "source": [
    "cars.sort()"
   ]
  },
  {
   "cell_type": "code",
   "execution_count": 10,
   "id": "fcd9c2ca-508b-425c-9082-1fce8d7515ae",
   "metadata": {},
   "outputs": [
    {
     "name": "stdout",
     "output_type": "stream",
     "text": [
      "['bmw', 'bugatti', 'ferrari', 'lambo', 'maruti', 'prosche', 'toyota']\n"
     ]
    }
   ],
   "source": [
    "print(cars)"
   ]
  },
  {
   "cell_type": "code",
   "execution_count": 11,
   "id": "d1ded0d5-d326-4754-b09c-b88fbda3e9cf",
   "metadata": {},
   "outputs": [],
   "source": [
    "#What is the difference between sort and sorted method in list datatype?"
   ]
  },
  {
   "cell_type": "code",
   "execution_count": 12,
   "id": "5223367f-1855-438d-8392-882079480b73",
   "metadata": {},
   "outputs": [],
   "source": [
    "#req: i want to get the list in the reverse order."
   ]
  },
  {
   "cell_type": "code",
   "execution_count": 13,
   "id": "39ce0a3e-04fb-44da-b3cb-e897a46d1618",
   "metadata": {},
   "outputs": [],
   "source": [
    "cars.reverse()"
   ]
  },
  {
   "cell_type": "code",
   "execution_count": 14,
   "id": "a99da9a9-0a86-4e8d-8a10-0aaf624f45f2",
   "metadata": {},
   "outputs": [
    {
     "name": "stdout",
     "output_type": "stream",
     "text": [
      "['toyota', 'prosche', 'maruti', 'lambo', 'ferrari', 'bugatti', 'bmw']\n"
     ]
    }
   ],
   "source": [
    "print(cars)"
   ]
  },
  {
   "cell_type": "code",
   "execution_count": 15,
   "id": "69a814d2-a3d5-4abe-a9e6-39b564ddcd64",
   "metadata": {},
   "outputs": [],
   "source": [
    "#find the length of the list"
   ]
  },
  {
   "cell_type": "code",
   "execution_count": 16,
   "id": "7eec1f44-e93e-4784-a1ee-5a4cac703616",
   "metadata": {},
   "outputs": [
    {
     "data": {
      "text/plain": [
       "7"
      ]
     },
     "execution_count": 16,
     "metadata": {},
     "output_type": "execute_result"
    }
   ],
   "source": [
    "len(cars)"
   ]
  },
  {
   "cell_type": "code",
   "execution_count": null,
   "id": "850da875-4537-4b55-ae0d-4d174c9bc34c",
   "metadata": {},
   "outputs": [],
   "source": []
  }
 ],
 "metadata": {
  "kernelspec": {
   "display_name": "Python 3 (ipykernel)",
   "language": "python",
   "name": "python3"
  },
  "language_info": {
   "codemirror_mode": {
    "name": "ipython",
    "version": 3
   },
   "file_extension": ".py",
   "mimetype": "text/x-python",
   "name": "python",
   "nbconvert_exporter": "python",
   "pygments_lexer": "ipython3",
   "version": "3.11.5"
  }
 },
 "nbformat": 4,
 "nbformat_minor": 5
}
